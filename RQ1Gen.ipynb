{
 "cells": [
  {
   "cell_type": "code",
   "execution_count": 1,
   "metadata": {},
   "outputs": [],
   "source": [
    "import pandas as pd"
   ]
  },
  {
   "cell_type": "code",
   "execution_count": 2,
   "metadata": {},
   "outputs": [],
   "source": [
    "def data_aggregator(path,columnnumber,chunksize):\n",
    "    df_list = []\n",
    "    for chunk in pd.read_csv(path,usecols=columnnumber, chunksize=chunksize):\n",
    "        df_list.append(pd.DataFrame(chunk))\n",
    "    result = pd.concat(df_list)\n",
    "    del df_list\n",
    "    result1=result.fillna(value=0)\n",
    "    del result\n",
    "    return result1"
   ]
  },
  {
   "cell_type": "code",
   "execution_count": 3,
   "metadata": {},
   "outputs": [],
   "source": [
    "import requests\n",
    "from bs4 import BeautifulSoup\n",
    "page = requests.get(\"https://github.com/CriMenghini/ADM-2018/blob/master/Homework_2/taxi_zone_lookup.csv\")\n",
    "soup = BeautifulSoup(page.content, 'html.parser')\n",
    "ids=[]\n",
    "bor=[]\n",
    "zon=[]\n",
    "srv_zon=[]\n",
    "cell=0\n",
    "for i in range(2,1327,5):    #FIRSTLY We get all the location ids\n",
    "    a=soup.find_all('td')[i].get_text()  \n",
    "    ids.append(a)\n",
    "    cell=cell+1\n",
    "    \n",
    "cell=0\n",
    "for i in range(3,1328,5):    #Then all the boroughs\n",
    "    a=soup.find_all('td')[i].get_text()\n",
    "    bor.append(a)\n",
    "    cell=cell+1\n",
    "    \n",
    "cell=0\n",
    "for i in range(4,1329,5):   #After that we get al zones\n",
    "    a=soup.find_all('td')[i].get_text()\n",
    "    zon.append(a)\n",
    "    cell=cell+1\n",
    "cell=0\n",
    "for i in range(5,1330,5):    #Finally we get all the seving zones\n",
    "    a=soup.find_all('td')[i].get_text()\n",
    "    srv_zon.append(a)\n",
    "    cell=cell+1\n",
    "# after getting all the informations needed we merged all the lists together\n",
    "data_tuples = list(zip(ids,bor,zon,srv_zon))"
   ]
  },
  {
   "cell_type": "code",
   "execution_count": 4,
   "metadata": {},
   "outputs": [],
   "source": [
    "boroghFrame=pd.DataFrame(data_tuples,columns = [\"PULocationID\", \"Borogh\", \"Zone\", \"srv_zon\"])\n",
    "boroghFrame['PULocationID']=boroghFrame['PULocationID'].apply(int)"
   ]
  },
  {
   "cell_type": "code",
   "execution_count": 5,
   "metadata": {},
   "outputs": [
    {
     "data": {
      "text/html": [
       "<div>\n",
       "<style scoped>\n",
       "    .dataframe tbody tr th:only-of-type {\n",
       "        vertical-align: middle;\n",
       "    }\n",
       "\n",
       "    .dataframe tbody tr th {\n",
       "        vertical-align: top;\n",
       "    }\n",
       "\n",
       "    .dataframe thead th {\n",
       "        text-align: right;\n",
       "    }\n",
       "</style>\n",
       "<table border=\"1\" class=\"dataframe\">\n",
       "  <thead>\n",
       "    <tr style=\"text-align: right;\">\n",
       "      <th></th>\n",
       "      <th>PULocationID</th>\n",
       "      <th>Borogh</th>\n",
       "      <th>Zone</th>\n",
       "      <th>srv_zon</th>\n",
       "    </tr>\n",
       "  </thead>\n",
       "  <tbody>\n",
       "    <tr>\n",
       "      <th>0</th>\n",
       "      <td>1</td>\n",
       "      <td>EWR</td>\n",
       "      <td>Newark Airport</td>\n",
       "      <td>EWR</td>\n",
       "    </tr>\n",
       "    <tr>\n",
       "      <th>1</th>\n",
       "      <td>2</td>\n",
       "      <td>Queens</td>\n",
       "      <td>Jamaica Bay</td>\n",
       "      <td>Boro Zone</td>\n",
       "    </tr>\n",
       "    <tr>\n",
       "      <th>2</th>\n",
       "      <td>3</td>\n",
       "      <td>Bronx</td>\n",
       "      <td>Allerton/Pelham Gardens</td>\n",
       "      <td>Boro Zone</td>\n",
       "    </tr>\n",
       "    <tr>\n",
       "      <th>3</th>\n",
       "      <td>4</td>\n",
       "      <td>Manhattan</td>\n",
       "      <td>Alphabet City</td>\n",
       "      <td>Yellow Zone</td>\n",
       "    </tr>\n",
       "    <tr>\n",
       "      <th>4</th>\n",
       "      <td>5</td>\n",
       "      <td>Staten Island</td>\n",
       "      <td>Arden Heights</td>\n",
       "      <td>Boro Zone</td>\n",
       "    </tr>\n",
       "    <tr>\n",
       "      <th>5</th>\n",
       "      <td>6</td>\n",
       "      <td>Staten Island</td>\n",
       "      <td>Arrochar/Fort Wadsworth</td>\n",
       "      <td>Boro Zone</td>\n",
       "    </tr>\n",
       "    <tr>\n",
       "      <th>6</th>\n",
       "      <td>7</td>\n",
       "      <td>Queens</td>\n",
       "      <td>Astoria</td>\n",
       "      <td>Boro Zone</td>\n",
       "    </tr>\n",
       "    <tr>\n",
       "      <th>7</th>\n",
       "      <td>8</td>\n",
       "      <td>Queens</td>\n",
       "      <td>Astoria Park</td>\n",
       "      <td>Boro Zone</td>\n",
       "    </tr>\n",
       "    <tr>\n",
       "      <th>8</th>\n",
       "      <td>9</td>\n",
       "      <td>Queens</td>\n",
       "      <td>Auburndale</td>\n",
       "      <td>Boro Zone</td>\n",
       "    </tr>\n",
       "    <tr>\n",
       "      <th>9</th>\n",
       "      <td>10</td>\n",
       "      <td>Queens</td>\n",
       "      <td>Baisley Park</td>\n",
       "      <td>Boro Zone</td>\n",
       "    </tr>\n",
       "    <tr>\n",
       "      <th>10</th>\n",
       "      <td>11</td>\n",
       "      <td>Brooklyn</td>\n",
       "      <td>Bath Beach</td>\n",
       "      <td>Boro Zone</td>\n",
       "    </tr>\n",
       "    <tr>\n",
       "      <th>11</th>\n",
       "      <td>12</td>\n",
       "      <td>Manhattan</td>\n",
       "      <td>Battery Park</td>\n",
       "      <td>Yellow Zone</td>\n",
       "    </tr>\n",
       "    <tr>\n",
       "      <th>12</th>\n",
       "      <td>13</td>\n",
       "      <td>Manhattan</td>\n",
       "      <td>Battery Park City</td>\n",
       "      <td>Yellow Zone</td>\n",
       "    </tr>\n",
       "    <tr>\n",
       "      <th>13</th>\n",
       "      <td>14</td>\n",
       "      <td>Brooklyn</td>\n",
       "      <td>Bay Ridge</td>\n",
       "      <td>Boro Zone</td>\n",
       "    </tr>\n",
       "    <tr>\n",
       "      <th>14</th>\n",
       "      <td>15</td>\n",
       "      <td>Queens</td>\n",
       "      <td>Bay Terrace/Fort Totten</td>\n",
       "      <td>Boro Zone</td>\n",
       "    </tr>\n",
       "    <tr>\n",
       "      <th>15</th>\n",
       "      <td>16</td>\n",
       "      <td>Queens</td>\n",
       "      <td>Bayside</td>\n",
       "      <td>Boro Zone</td>\n",
       "    </tr>\n",
       "    <tr>\n",
       "      <th>16</th>\n",
       "      <td>17</td>\n",
       "      <td>Brooklyn</td>\n",
       "      <td>Bedford</td>\n",
       "      <td>Boro Zone</td>\n",
       "    </tr>\n",
       "    <tr>\n",
       "      <th>17</th>\n",
       "      <td>18</td>\n",
       "      <td>Bronx</td>\n",
       "      <td>Bedford Park</td>\n",
       "      <td>Boro Zone</td>\n",
       "    </tr>\n",
       "    <tr>\n",
       "      <th>18</th>\n",
       "      <td>19</td>\n",
       "      <td>Queens</td>\n",
       "      <td>Bellerose</td>\n",
       "      <td>Boro Zone</td>\n",
       "    </tr>\n",
       "    <tr>\n",
       "      <th>19</th>\n",
       "      <td>20</td>\n",
       "      <td>Bronx</td>\n",
       "      <td>Belmont</td>\n",
       "      <td>Boro Zone</td>\n",
       "    </tr>\n",
       "    <tr>\n",
       "      <th>20</th>\n",
       "      <td>21</td>\n",
       "      <td>Brooklyn</td>\n",
       "      <td>Bensonhurst East</td>\n",
       "      <td>Boro Zone</td>\n",
       "    </tr>\n",
       "    <tr>\n",
       "      <th>21</th>\n",
       "      <td>22</td>\n",
       "      <td>Brooklyn</td>\n",
       "      <td>Bensonhurst West</td>\n",
       "      <td>Boro Zone</td>\n",
       "    </tr>\n",
       "    <tr>\n",
       "      <th>22</th>\n",
       "      <td>23</td>\n",
       "      <td>Staten Island</td>\n",
       "      <td>Bloomfield/Emerson Hill</td>\n",
       "      <td>Boro Zone</td>\n",
       "    </tr>\n",
       "    <tr>\n",
       "      <th>23</th>\n",
       "      <td>24</td>\n",
       "      <td>Manhattan</td>\n",
       "      <td>Bloomingdale</td>\n",
       "      <td>Yellow Zone</td>\n",
       "    </tr>\n",
       "    <tr>\n",
       "      <th>24</th>\n",
       "      <td>25</td>\n",
       "      <td>Brooklyn</td>\n",
       "      <td>Boerum Hill</td>\n",
       "      <td>Boro Zone</td>\n",
       "    </tr>\n",
       "    <tr>\n",
       "      <th>25</th>\n",
       "      <td>26</td>\n",
       "      <td>Brooklyn</td>\n",
       "      <td>Borough Park</td>\n",
       "      <td>Boro Zone</td>\n",
       "    </tr>\n",
       "    <tr>\n",
       "      <th>26</th>\n",
       "      <td>27</td>\n",
       "      <td>Queens</td>\n",
       "      <td>Breezy Point/Fort Tilden/Riis Beach</td>\n",
       "      <td>Boro Zone</td>\n",
       "    </tr>\n",
       "    <tr>\n",
       "      <th>27</th>\n",
       "      <td>28</td>\n",
       "      <td>Queens</td>\n",
       "      <td>Briarwood/Jamaica Hills</td>\n",
       "      <td>Boro Zone</td>\n",
       "    </tr>\n",
       "    <tr>\n",
       "      <th>28</th>\n",
       "      <td>29</td>\n",
       "      <td>Brooklyn</td>\n",
       "      <td>Brighton Beach</td>\n",
       "      <td>Boro Zone</td>\n",
       "    </tr>\n",
       "    <tr>\n",
       "      <th>29</th>\n",
       "      <td>30</td>\n",
       "      <td>Queens</td>\n",
       "      <td>Broad Channel</td>\n",
       "      <td>Boro Zone</td>\n",
       "    </tr>\n",
       "    <tr>\n",
       "      <th>...</th>\n",
       "      <td>...</td>\n",
       "      <td>...</td>\n",
       "      <td>...</td>\n",
       "      <td>...</td>\n",
       "    </tr>\n",
       "    <tr>\n",
       "      <th>235</th>\n",
       "      <td>236</td>\n",
       "      <td>Manhattan</td>\n",
       "      <td>Upper East Side North</td>\n",
       "      <td>Yellow Zone</td>\n",
       "    </tr>\n",
       "    <tr>\n",
       "      <th>236</th>\n",
       "      <td>237</td>\n",
       "      <td>Manhattan</td>\n",
       "      <td>Upper East Side South</td>\n",
       "      <td>Yellow Zone</td>\n",
       "    </tr>\n",
       "    <tr>\n",
       "      <th>237</th>\n",
       "      <td>238</td>\n",
       "      <td>Manhattan</td>\n",
       "      <td>Upper West Side North</td>\n",
       "      <td>Yellow Zone</td>\n",
       "    </tr>\n",
       "    <tr>\n",
       "      <th>238</th>\n",
       "      <td>239</td>\n",
       "      <td>Manhattan</td>\n",
       "      <td>Upper West Side South</td>\n",
       "      <td>Yellow Zone</td>\n",
       "    </tr>\n",
       "    <tr>\n",
       "      <th>239</th>\n",
       "      <td>240</td>\n",
       "      <td>Bronx</td>\n",
       "      <td>Van Cortlandt Park</td>\n",
       "      <td>Boro Zone</td>\n",
       "    </tr>\n",
       "    <tr>\n",
       "      <th>240</th>\n",
       "      <td>241</td>\n",
       "      <td>Bronx</td>\n",
       "      <td>Van Cortlandt Village</td>\n",
       "      <td>Boro Zone</td>\n",
       "    </tr>\n",
       "    <tr>\n",
       "      <th>241</th>\n",
       "      <td>242</td>\n",
       "      <td>Bronx</td>\n",
       "      <td>Van Nest/Morris Park</td>\n",
       "      <td>Boro Zone</td>\n",
       "    </tr>\n",
       "    <tr>\n",
       "      <th>242</th>\n",
       "      <td>243</td>\n",
       "      <td>Manhattan</td>\n",
       "      <td>Washington Heights North</td>\n",
       "      <td>Boro Zone</td>\n",
       "    </tr>\n",
       "    <tr>\n",
       "      <th>243</th>\n",
       "      <td>244</td>\n",
       "      <td>Manhattan</td>\n",
       "      <td>Washington Heights South</td>\n",
       "      <td>Boro Zone</td>\n",
       "    </tr>\n",
       "    <tr>\n",
       "      <th>244</th>\n",
       "      <td>245</td>\n",
       "      <td>Staten Island</td>\n",
       "      <td>West Brighton</td>\n",
       "      <td>Boro Zone</td>\n",
       "    </tr>\n",
       "    <tr>\n",
       "      <th>245</th>\n",
       "      <td>246</td>\n",
       "      <td>Manhattan</td>\n",
       "      <td>West Chelsea/Hudson Yards</td>\n",
       "      <td>Yellow Zone</td>\n",
       "    </tr>\n",
       "    <tr>\n",
       "      <th>246</th>\n",
       "      <td>247</td>\n",
       "      <td>Bronx</td>\n",
       "      <td>West Concourse</td>\n",
       "      <td>Boro Zone</td>\n",
       "    </tr>\n",
       "    <tr>\n",
       "      <th>247</th>\n",
       "      <td>248</td>\n",
       "      <td>Bronx</td>\n",
       "      <td>West Farms/Bronx River</td>\n",
       "      <td>Boro Zone</td>\n",
       "    </tr>\n",
       "    <tr>\n",
       "      <th>248</th>\n",
       "      <td>249</td>\n",
       "      <td>Manhattan</td>\n",
       "      <td>West Village</td>\n",
       "      <td>Yellow Zone</td>\n",
       "    </tr>\n",
       "    <tr>\n",
       "      <th>249</th>\n",
       "      <td>250</td>\n",
       "      <td>Bronx</td>\n",
       "      <td>Westchester Village/Unionport</td>\n",
       "      <td>Boro Zone</td>\n",
       "    </tr>\n",
       "    <tr>\n",
       "      <th>250</th>\n",
       "      <td>251</td>\n",
       "      <td>Staten Island</td>\n",
       "      <td>Westerleigh</td>\n",
       "      <td>Boro Zone</td>\n",
       "    </tr>\n",
       "    <tr>\n",
       "      <th>251</th>\n",
       "      <td>252</td>\n",
       "      <td>Queens</td>\n",
       "      <td>Whitestone</td>\n",
       "      <td>Boro Zone</td>\n",
       "    </tr>\n",
       "    <tr>\n",
       "      <th>252</th>\n",
       "      <td>253</td>\n",
       "      <td>Queens</td>\n",
       "      <td>Willets Point</td>\n",
       "      <td>Boro Zone</td>\n",
       "    </tr>\n",
       "    <tr>\n",
       "      <th>253</th>\n",
       "      <td>254</td>\n",
       "      <td>Bronx</td>\n",
       "      <td>Williamsbridge/Olinville</td>\n",
       "      <td>Boro Zone</td>\n",
       "    </tr>\n",
       "    <tr>\n",
       "      <th>254</th>\n",
       "      <td>255</td>\n",
       "      <td>Brooklyn</td>\n",
       "      <td>Williamsburg (North Side)</td>\n",
       "      <td>Boro Zone</td>\n",
       "    </tr>\n",
       "    <tr>\n",
       "      <th>255</th>\n",
       "      <td>256</td>\n",
       "      <td>Brooklyn</td>\n",
       "      <td>Williamsburg (South Side)</td>\n",
       "      <td>Boro Zone</td>\n",
       "    </tr>\n",
       "    <tr>\n",
       "      <th>256</th>\n",
       "      <td>257</td>\n",
       "      <td>Brooklyn</td>\n",
       "      <td>Windsor Terrace</td>\n",
       "      <td>Boro Zone</td>\n",
       "    </tr>\n",
       "    <tr>\n",
       "      <th>257</th>\n",
       "      <td>258</td>\n",
       "      <td>Queens</td>\n",
       "      <td>Woodhaven</td>\n",
       "      <td>Boro Zone</td>\n",
       "    </tr>\n",
       "    <tr>\n",
       "      <th>258</th>\n",
       "      <td>259</td>\n",
       "      <td>Bronx</td>\n",
       "      <td>Woodlawn/Wakefield</td>\n",
       "      <td>Boro Zone</td>\n",
       "    </tr>\n",
       "    <tr>\n",
       "      <th>259</th>\n",
       "      <td>260</td>\n",
       "      <td>Queens</td>\n",
       "      <td>Woodside</td>\n",
       "      <td>Boro Zone</td>\n",
       "    </tr>\n",
       "    <tr>\n",
       "      <th>260</th>\n",
       "      <td>261</td>\n",
       "      <td>Manhattan</td>\n",
       "      <td>World Trade Center</td>\n",
       "      <td>Yellow Zone</td>\n",
       "    </tr>\n",
       "    <tr>\n",
       "      <th>261</th>\n",
       "      <td>262</td>\n",
       "      <td>Manhattan</td>\n",
       "      <td>Yorkville East</td>\n",
       "      <td>Yellow Zone</td>\n",
       "    </tr>\n",
       "    <tr>\n",
       "      <th>262</th>\n",
       "      <td>263</td>\n",
       "      <td>Manhattan</td>\n",
       "      <td>Yorkville West</td>\n",
       "      <td>Yellow Zone</td>\n",
       "    </tr>\n",
       "    <tr>\n",
       "      <th>263</th>\n",
       "      <td>264</td>\n",
       "      <td>Unknown</td>\n",
       "      <td>NV</td>\n",
       "      <td>N/A</td>\n",
       "    </tr>\n",
       "    <tr>\n",
       "      <th>264</th>\n",
       "      <td>265</td>\n",
       "      <td>Unknown</td>\n",
       "      <td>NA</td>\n",
       "      <td>N/A</td>\n",
       "    </tr>\n",
       "  </tbody>\n",
       "</table>\n",
       "<p>265 rows × 4 columns</p>\n",
       "</div>"
      ],
      "text/plain": [
       "     PULocationID         Borogh                                 Zone  \\\n",
       "0               1            EWR                       Newark Airport   \n",
       "1               2         Queens                          Jamaica Bay   \n",
       "2               3          Bronx              Allerton/Pelham Gardens   \n",
       "3               4      Manhattan                        Alphabet City   \n",
       "4               5  Staten Island                        Arden Heights   \n",
       "5               6  Staten Island              Arrochar/Fort Wadsworth   \n",
       "6               7         Queens                              Astoria   \n",
       "7               8         Queens                         Astoria Park   \n",
       "8               9         Queens                           Auburndale   \n",
       "9              10         Queens                         Baisley Park   \n",
       "10             11       Brooklyn                           Bath Beach   \n",
       "11             12      Manhattan                         Battery Park   \n",
       "12             13      Manhattan                    Battery Park City   \n",
       "13             14       Brooklyn                            Bay Ridge   \n",
       "14             15         Queens              Bay Terrace/Fort Totten   \n",
       "15             16         Queens                              Bayside   \n",
       "16             17       Brooklyn                              Bedford   \n",
       "17             18          Bronx                         Bedford Park   \n",
       "18             19         Queens                            Bellerose   \n",
       "19             20          Bronx                              Belmont   \n",
       "20             21       Brooklyn                     Bensonhurst East   \n",
       "21             22       Brooklyn                     Bensonhurst West   \n",
       "22             23  Staten Island              Bloomfield/Emerson Hill   \n",
       "23             24      Manhattan                         Bloomingdale   \n",
       "24             25       Brooklyn                          Boerum Hill   \n",
       "25             26       Brooklyn                         Borough Park   \n",
       "26             27         Queens  Breezy Point/Fort Tilden/Riis Beach   \n",
       "27             28         Queens              Briarwood/Jamaica Hills   \n",
       "28             29       Brooklyn                       Brighton Beach   \n",
       "29             30         Queens                        Broad Channel   \n",
       "..            ...            ...                                  ...   \n",
       "235           236      Manhattan                Upper East Side North   \n",
       "236           237      Manhattan                Upper East Side South   \n",
       "237           238      Manhattan                Upper West Side North   \n",
       "238           239      Manhattan                Upper West Side South   \n",
       "239           240          Bronx                   Van Cortlandt Park   \n",
       "240           241          Bronx                Van Cortlandt Village   \n",
       "241           242          Bronx                 Van Nest/Morris Park   \n",
       "242           243      Manhattan             Washington Heights North   \n",
       "243           244      Manhattan             Washington Heights South   \n",
       "244           245  Staten Island                        West Brighton   \n",
       "245           246      Manhattan            West Chelsea/Hudson Yards   \n",
       "246           247          Bronx                       West Concourse   \n",
       "247           248          Bronx               West Farms/Bronx River   \n",
       "248           249      Manhattan                         West Village   \n",
       "249           250          Bronx        Westchester Village/Unionport   \n",
       "250           251  Staten Island                          Westerleigh   \n",
       "251           252         Queens                           Whitestone   \n",
       "252           253         Queens                        Willets Point   \n",
       "253           254          Bronx             Williamsbridge/Olinville   \n",
       "254           255       Brooklyn            Williamsburg (North Side)   \n",
       "255           256       Brooklyn            Williamsburg (South Side)   \n",
       "256           257       Brooklyn                      Windsor Terrace   \n",
       "257           258         Queens                            Woodhaven   \n",
       "258           259          Bronx                   Woodlawn/Wakefield   \n",
       "259           260         Queens                             Woodside   \n",
       "260           261      Manhattan                   World Trade Center   \n",
       "261           262      Manhattan                       Yorkville East   \n",
       "262           263      Manhattan                       Yorkville West   \n",
       "263           264        Unknown                                   NV   \n",
       "264           265        Unknown                                   NA   \n",
       "\n",
       "         srv_zon  \n",
       "0            EWR  \n",
       "1      Boro Zone  \n",
       "2      Boro Zone  \n",
       "3    Yellow Zone  \n",
       "4      Boro Zone  \n",
       "5      Boro Zone  \n",
       "6      Boro Zone  \n",
       "7      Boro Zone  \n",
       "8      Boro Zone  \n",
       "9      Boro Zone  \n",
       "10     Boro Zone  \n",
       "11   Yellow Zone  \n",
       "12   Yellow Zone  \n",
       "13     Boro Zone  \n",
       "14     Boro Zone  \n",
       "15     Boro Zone  \n",
       "16     Boro Zone  \n",
       "17     Boro Zone  \n",
       "18     Boro Zone  \n",
       "19     Boro Zone  \n",
       "20     Boro Zone  \n",
       "21     Boro Zone  \n",
       "22     Boro Zone  \n",
       "23   Yellow Zone  \n",
       "24     Boro Zone  \n",
       "25     Boro Zone  \n",
       "26     Boro Zone  \n",
       "27     Boro Zone  \n",
       "28     Boro Zone  \n",
       "29     Boro Zone  \n",
       "..           ...  \n",
       "235  Yellow Zone  \n",
       "236  Yellow Zone  \n",
       "237  Yellow Zone  \n",
       "238  Yellow Zone  \n",
       "239    Boro Zone  \n",
       "240    Boro Zone  \n",
       "241    Boro Zone  \n",
       "242    Boro Zone  \n",
       "243    Boro Zone  \n",
       "244    Boro Zone  \n",
       "245  Yellow Zone  \n",
       "246    Boro Zone  \n",
       "247    Boro Zone  \n",
       "248  Yellow Zone  \n",
       "249    Boro Zone  \n",
       "250    Boro Zone  \n",
       "251    Boro Zone  \n",
       "252    Boro Zone  \n",
       "253    Boro Zone  \n",
       "254    Boro Zone  \n",
       "255    Boro Zone  \n",
       "256    Boro Zone  \n",
       "257    Boro Zone  \n",
       "258    Boro Zone  \n",
       "259    Boro Zone  \n",
       "260  Yellow Zone  \n",
       "261  Yellow Zone  \n",
       "262  Yellow Zone  \n",
       "263          N/A  \n",
       "264          N/A  \n",
       "\n",
       "[265 rows x 4 columns]"
      ]
     },
     "execution_count": 5,
     "metadata": {},
     "output_type": "execute_result"
    }
   ],
   "source": [
    "boroghFrame"
   ]
  },
  {
   "cell_type": "code",
   "execution_count": 6,
   "metadata": {},
   "outputs": [],
   "source": [
    "#this function to merge(join) two dataframes one of them the month's dataframe and second the borogh dataframe\n",
    "def data_aggregator2(df1,df2,oncolumns,jointype):\n",
    "    result = pd.merge(df1, boroghFrame, on=oncolumns,how=jointype)\n",
    "    return result\n",
    "#data_aggregator(df1,boroghFrame,['PULocationID'],\"inner\")"
   ]
  },
  {
   "cell_type": "code",
   "execution_count": 7,
   "metadata": {},
   "outputs": [],
   "source": [
    "#RQ1\n",
    "JanData=\"yellow_tripdata_2018-01.csv\"\n",
    "FebData=\"yellow_tripdata_2018-02.csv\"\n",
    "MarData=\"yellow_tripdata_2018-03.csv\"\n",
    "AprData=\"yellow_tripdata_2018-04.csv\"\n",
    "MayData=\"yellow_tripdata_2018-05.csv\"\n",
    "JunData=\"yellow_tripdata_2018-06.csv\"\n",
    "\n"
   ]
  },
  {
   "cell_type": "code",
   "execution_count": 8,
   "metadata": {},
   "outputs": [],
   "source": [
    "JanDF=data_aggregator(JanData,[1],10000)"
   ]
  },
  {
   "cell_type": "code",
   "execution_count": 9,
   "metadata": {},
   "outputs": [],
   "source": [
    "JanDailyList=[0 for x in range(31)]\n",
    "JanDaily=dict.fromkeys([i for i in range (1,32)], 0)\n",
    "\n",
    "  "
   ]
  },
  {
   "cell_type": "code",
   "execution_count": 10,
   "metadata": {},
   "outputs": [
    {
     "data": {
      "text/html": [
       "<div>\n",
       "<style scoped>\n",
       "    .dataframe tbody tr th:only-of-type {\n",
       "        vertical-align: middle;\n",
       "    }\n",
       "\n",
       "    .dataframe tbody tr th {\n",
       "        vertical-align: top;\n",
       "    }\n",
       "\n",
       "    .dataframe thead th {\n",
       "        text-align: right;\n",
       "    }\n",
       "</style>\n",
       "<table border=\"1\" class=\"dataframe\">\n",
       "  <thead>\n",
       "    <tr style=\"text-align: right;\">\n",
       "      <th></th>\n",
       "      <th>tpep_pickup_datetime</th>\n",
       "    </tr>\n",
       "  </thead>\n",
       "  <tbody>\n",
       "    <tr>\n",
       "      <th>0</th>\n",
       "      <td>2018-01-01 00:21:05</td>\n",
       "    </tr>\n",
       "    <tr>\n",
       "      <th>1</th>\n",
       "      <td>2018-01-01 00:44:55</td>\n",
       "    </tr>\n",
       "    <tr>\n",
       "      <th>2</th>\n",
       "      <td>2018-01-01 00:08:26</td>\n",
       "    </tr>\n",
       "    <tr>\n",
       "      <th>3</th>\n",
       "      <td>2018-01-01 00:20:22</td>\n",
       "    </tr>\n",
       "    <tr>\n",
       "      <th>4</th>\n",
       "      <td>2018-01-01 00:09:18</td>\n",
       "    </tr>\n",
       "    <tr>\n",
       "      <th>5</th>\n",
       "      <td>2018-01-01 00:29:29</td>\n",
       "    </tr>\n",
       "    <tr>\n",
       "      <th>6</th>\n",
       "      <td>2018-01-01 00:38:08</td>\n",
       "    </tr>\n",
       "    <tr>\n",
       "      <th>7</th>\n",
       "      <td>2018-01-01 00:49:29</td>\n",
       "    </tr>\n",
       "    <tr>\n",
       "      <th>8</th>\n",
       "      <td>2018-01-01 00:56:38</td>\n",
       "    </tr>\n",
       "    <tr>\n",
       "      <th>9</th>\n",
       "      <td>2018-01-01 00:17:04</td>\n",
       "    </tr>\n",
       "    <tr>\n",
       "      <th>10</th>\n",
       "      <td>2018-01-01 00:41:03</td>\n",
       "    </tr>\n",
       "    <tr>\n",
       "      <th>11</th>\n",
       "      <td>2018-01-01 00:52:54</td>\n",
       "    </tr>\n",
       "    <tr>\n",
       "      <th>12</th>\n",
       "      <td>2018-01-01 00:17:54</td>\n",
       "    </tr>\n",
       "    <tr>\n",
       "      <th>13</th>\n",
       "      <td>2018-01-01 00:24:47</td>\n",
       "    </tr>\n",
       "    <tr>\n",
       "      <th>14</th>\n",
       "      <td>2018-01-01 00:37:57</td>\n",
       "    </tr>\n",
       "    <tr>\n",
       "      <th>15</th>\n",
       "      <td>2018-01-01 00:35:53</td>\n",
       "    </tr>\n",
       "    <tr>\n",
       "      <th>16</th>\n",
       "      <td>2018-01-01 00:30:47</td>\n",
       "    </tr>\n",
       "    <tr>\n",
       "      <th>17</th>\n",
       "      <td>2018-01-01 00:21:45</td>\n",
       "    </tr>\n",
       "    <tr>\n",
       "      <th>18</th>\n",
       "      <td>2018-01-01 00:31:11</td>\n",
       "    </tr>\n",
       "    <tr>\n",
       "      <th>19</th>\n",
       "      <td>2018-01-01 00:15:42</td>\n",
       "    </tr>\n",
       "    <tr>\n",
       "      <th>20</th>\n",
       "      <td>2018-01-01 00:25:19</td>\n",
       "    </tr>\n",
       "    <tr>\n",
       "      <th>21</th>\n",
       "      <td>2018-01-01 00:51:36</td>\n",
       "    </tr>\n",
       "    <tr>\n",
       "      <th>22</th>\n",
       "      <td>2018-01-01 00:09:11</td>\n",
       "    </tr>\n",
       "    <tr>\n",
       "      <th>23</th>\n",
       "      <td>2018-01-01 00:32:00</td>\n",
       "    </tr>\n",
       "    <tr>\n",
       "      <th>24</th>\n",
       "      <td>2018-01-01 00:41:49</td>\n",
       "    </tr>\n",
       "    <tr>\n",
       "      <th>25</th>\n",
       "      <td>2018-01-01 00:17:15</td>\n",
       "    </tr>\n",
       "    <tr>\n",
       "      <th>26</th>\n",
       "      <td>2018-01-01 00:24:54</td>\n",
       "    </tr>\n",
       "    <tr>\n",
       "      <th>27</th>\n",
       "      <td>2018-01-01 00:48:40</td>\n",
       "    </tr>\n",
       "    <tr>\n",
       "      <th>28</th>\n",
       "      <td>2018-01-01 00:24:42</td>\n",
       "    </tr>\n",
       "    <tr>\n",
       "      <th>29</th>\n",
       "      <td>2018-01-01 00:36:09</td>\n",
       "    </tr>\n",
       "    <tr>\n",
       "      <th>...</th>\n",
       "      <td>...</td>\n",
       "    </tr>\n",
       "    <tr>\n",
       "      <th>8759844</th>\n",
       "      <td>2018-01-31 23:40:38</td>\n",
       "    </tr>\n",
       "    <tr>\n",
       "      <th>8759845</th>\n",
       "      <td>2018-01-31 23:53:03</td>\n",
       "    </tr>\n",
       "    <tr>\n",
       "      <th>8759846</th>\n",
       "      <td>2018-01-31 23:31:18</td>\n",
       "    </tr>\n",
       "    <tr>\n",
       "      <th>8759847</th>\n",
       "      <td>2018-01-31 23:55:15</td>\n",
       "    </tr>\n",
       "    <tr>\n",
       "      <th>8759848</th>\n",
       "      <td>2018-01-31 23:08:35</td>\n",
       "    </tr>\n",
       "    <tr>\n",
       "      <th>8759849</th>\n",
       "      <td>2018-01-31 23:03:31</td>\n",
       "    </tr>\n",
       "    <tr>\n",
       "      <th>8759850</th>\n",
       "      <td>2018-01-31 23:28:47</td>\n",
       "    </tr>\n",
       "    <tr>\n",
       "      <th>8759851</th>\n",
       "      <td>2018-01-31 23:01:38</td>\n",
       "    </tr>\n",
       "    <tr>\n",
       "      <th>8759852</th>\n",
       "      <td>2018-01-31 23:35:33</td>\n",
       "    </tr>\n",
       "    <tr>\n",
       "      <th>8759853</th>\n",
       "      <td>2018-01-31 23:11:36</td>\n",
       "    </tr>\n",
       "    <tr>\n",
       "      <th>8759854</th>\n",
       "      <td>2018-01-31 23:37:29</td>\n",
       "    </tr>\n",
       "    <tr>\n",
       "      <th>8759855</th>\n",
       "      <td>2018-01-31 23:39:15</td>\n",
       "    </tr>\n",
       "    <tr>\n",
       "      <th>8759856</th>\n",
       "      <td>2018-01-31 23:25:02</td>\n",
       "    </tr>\n",
       "    <tr>\n",
       "      <th>8759857</th>\n",
       "      <td>2018-01-31 23:17:00</td>\n",
       "    </tr>\n",
       "    <tr>\n",
       "      <th>8759858</th>\n",
       "      <td>2018-01-31 23:26:11</td>\n",
       "    </tr>\n",
       "    <tr>\n",
       "      <th>8759859</th>\n",
       "      <td>2018-01-31 23:11:59</td>\n",
       "    </tr>\n",
       "    <tr>\n",
       "      <th>8759860</th>\n",
       "      <td>2018-01-31 23:54:57</td>\n",
       "    </tr>\n",
       "    <tr>\n",
       "      <th>8759861</th>\n",
       "      <td>2018-01-31 23:11:56</td>\n",
       "    </tr>\n",
       "    <tr>\n",
       "      <th>8759862</th>\n",
       "      <td>2018-01-31 23:16:59</td>\n",
       "    </tr>\n",
       "    <tr>\n",
       "      <th>8759863</th>\n",
       "      <td>2018-01-31 23:08:48</td>\n",
       "    </tr>\n",
       "    <tr>\n",
       "      <th>8759864</th>\n",
       "      <td>2018-01-31 23:05:11</td>\n",
       "    </tr>\n",
       "    <tr>\n",
       "      <th>8759865</th>\n",
       "      <td>2018-01-31 23:41:11</td>\n",
       "    </tr>\n",
       "    <tr>\n",
       "      <th>8759866</th>\n",
       "      <td>2018-01-31 23:52:53</td>\n",
       "    </tr>\n",
       "    <tr>\n",
       "      <th>8759867</th>\n",
       "      <td>2018-01-31 23:20:51</td>\n",
       "    </tr>\n",
       "    <tr>\n",
       "      <th>8759868</th>\n",
       "      <td>2018-01-31 23:57:33</td>\n",
       "    </tr>\n",
       "    <tr>\n",
       "      <th>8759869</th>\n",
       "      <td>2018-01-31 23:21:35</td>\n",
       "    </tr>\n",
       "    <tr>\n",
       "      <th>8759870</th>\n",
       "      <td>2018-01-31 23:35:51</td>\n",
       "    </tr>\n",
       "    <tr>\n",
       "      <th>8759871</th>\n",
       "      <td>2018-01-31 23:28:00</td>\n",
       "    </tr>\n",
       "    <tr>\n",
       "      <th>8759872</th>\n",
       "      <td>2018-01-31 23:24:40</td>\n",
       "    </tr>\n",
       "    <tr>\n",
       "      <th>8759873</th>\n",
       "      <td>2018-01-31 23:28:16</td>\n",
       "    </tr>\n",
       "  </tbody>\n",
       "</table>\n",
       "<p>8759874 rows × 1 columns</p>\n",
       "</div>"
      ],
      "text/plain": [
       "        tpep_pickup_datetime\n",
       "0        2018-01-01 00:21:05\n",
       "1        2018-01-01 00:44:55\n",
       "2        2018-01-01 00:08:26\n",
       "3        2018-01-01 00:20:22\n",
       "4        2018-01-01 00:09:18\n",
       "5        2018-01-01 00:29:29\n",
       "6        2018-01-01 00:38:08\n",
       "7        2018-01-01 00:49:29\n",
       "8        2018-01-01 00:56:38\n",
       "9        2018-01-01 00:17:04\n",
       "10       2018-01-01 00:41:03\n",
       "11       2018-01-01 00:52:54\n",
       "12       2018-01-01 00:17:54\n",
       "13       2018-01-01 00:24:47\n",
       "14       2018-01-01 00:37:57\n",
       "15       2018-01-01 00:35:53\n",
       "16       2018-01-01 00:30:47\n",
       "17       2018-01-01 00:21:45\n",
       "18       2018-01-01 00:31:11\n",
       "19       2018-01-01 00:15:42\n",
       "20       2018-01-01 00:25:19\n",
       "21       2018-01-01 00:51:36\n",
       "22       2018-01-01 00:09:11\n",
       "23       2018-01-01 00:32:00\n",
       "24       2018-01-01 00:41:49\n",
       "25       2018-01-01 00:17:15\n",
       "26       2018-01-01 00:24:54\n",
       "27       2018-01-01 00:48:40\n",
       "28       2018-01-01 00:24:42\n",
       "29       2018-01-01 00:36:09\n",
       "...                      ...\n",
       "8759844  2018-01-31 23:40:38\n",
       "8759845  2018-01-31 23:53:03\n",
       "8759846  2018-01-31 23:31:18\n",
       "8759847  2018-01-31 23:55:15\n",
       "8759848  2018-01-31 23:08:35\n",
       "8759849  2018-01-31 23:03:31\n",
       "8759850  2018-01-31 23:28:47\n",
       "8759851  2018-01-31 23:01:38\n",
       "8759852  2018-01-31 23:35:33\n",
       "8759853  2018-01-31 23:11:36\n",
       "8759854  2018-01-31 23:37:29\n",
       "8759855  2018-01-31 23:39:15\n",
       "8759856  2018-01-31 23:25:02\n",
       "8759857  2018-01-31 23:17:00\n",
       "8759858  2018-01-31 23:26:11\n",
       "8759859  2018-01-31 23:11:59\n",
       "8759860  2018-01-31 23:54:57\n",
       "8759861  2018-01-31 23:11:56\n",
       "8759862  2018-01-31 23:16:59\n",
       "8759863  2018-01-31 23:08:48\n",
       "8759864  2018-01-31 23:05:11\n",
       "8759865  2018-01-31 23:41:11\n",
       "8759866  2018-01-31 23:52:53\n",
       "8759867  2018-01-31 23:20:51\n",
       "8759868  2018-01-31 23:57:33\n",
       "8759869  2018-01-31 23:21:35\n",
       "8759870  2018-01-31 23:35:51\n",
       "8759871  2018-01-31 23:28:00\n",
       "8759872  2018-01-31 23:24:40\n",
       "8759873  2018-01-31 23:28:16\n",
       "\n",
       "[8759874 rows x 1 columns]"
      ]
     },
     "execution_count": 10,
     "metadata": {},
     "output_type": "execute_result"
    }
   ],
   "source": [
    "JanDF"
   ]
  },
  {
   "cell_type": "code",
   "execution_count": 11,
   "metadata": {},
   "outputs": [],
   "source": [
    "for i in range(len(JanDF)):\n",
    "    day=JanDF['tpep_pickup_datetime'][i].split(' ')[0].split('-')[2]\n",
    "    for j in JanDaily:\n",
    "        if day=='0'+str(j) or day==str(j):\n",
    "            JanDaily[j]+=1"
   ]
  },
  {
   "cell_type": "code",
   "execution_count": 12,
   "metadata": {},
   "outputs": [],
   "source": [
    "import matplotlib.pyplot as plt"
   ]
  },
  {
   "cell_type": "code",
   "execution_count": 13,
   "metadata": {},
   "outputs": [],
   "source": [
    "for i in JanDaily.keys():\n",
    "    JanDaily[i]=int(JanDaily[i]/31)"
   ]
  },
  {
   "cell_type": "code",
   "execution_count": 14,
   "metadata": {},
   "outputs": [
    {
     "data": {
      "image/png": "[encoded data removed]",
      "text/plain": [
       "<Figure size 432x288 with 1 Axes>"
      ]
     },
     "metadata": {},
     "output_type": "display_data"
    }
   ],
   "source": [
    "\n",
    "plt.bar(list(JanDaily.keys()),list(JanDaily.values()),color='g')\n",
    "plt.show()"
   ]
  },
  {
   "cell_type": "code",
   "execution_count": 15,
   "metadata": {},
   "outputs": [
    {
     "data": {
      "text/plain": [
       "{1: 7651,\n",
       " 2: 7682,\n",
       " 3: 8612,\n",
       " 4: 3942,\n",
       " 5: 8555,\n",
       " 6: 9072,\n",
       " 7: 7657,\n",
       " 8: 8380,\n",
       " 9: 9182,\n",
       " 10: 9366,\n",
       " 11: 9838,\n",
       " 12: 10246,\n",
       " 13: 10383,\n",
       " 14: 9385,\n",
       " 15: 7964,\n",
       " 16: 9539,\n",
       " 17: 9839,\n",
       " 18: 10668,\n",
       " 19: 10503,\n",
       " 20: 9500,\n",
       " 21: 8135,\n",
       " 22: 8440,\n",
       " 23: 9275,\n",
       " 24: 10179,\n",
       " 25: 10706,\n",
       " 26: 10818,\n",
       " 27: 9999,\n",
       " 28: 8380,\n",
       " 29: 8600,\n",
       " 30: 9769,\n",
       " 31: 10299}"
      ]
     },
     "execution_count": 15,
     "metadata": {},
     "output_type": "execute_result"
    }
   ],
   "source": [
    "JanDaily"
   ]
  },
  {
   "cell_type": "code",
   "execution_count": 16,
   "metadata": {},
   "outputs": [],
   "source": [
    "del JanDF"
   ]
  },
  {
   "cell_type": "code",
   "execution_count": 17,
   "metadata": {},
   "outputs": [],
   "source": [
    "FebDF=data_aggregator(FebData,[1],100)"
   ]
  },
  {
   "cell_type": "code",
   "execution_count": 18,
   "metadata": {},
   "outputs": [],
   "source": [
    "FebDailyList=[0 for x in range(28)]\n",
    "FebDaily=dict.fromkeys([i for i in range (1,29)], 0)\n"
   ]
  },
  {
   "cell_type": "code",
   "execution_count": 19,
   "metadata": {},
   "outputs": [
    {
     "data": {
      "text/plain": [
       "{1: 0,\n",
       " 2: 0,\n",
       " 3: 0,\n",
       " 4: 0,\n",
       " 5: 0,\n",
       " 6: 0,\n",
       " 7: 0,\n",
       " 8: 0,\n",
       " 9: 0,\n",
       " 10: 0,\n",
       " 11: 0,\n",
       " 12: 0,\n",
       " 13: 0,\n",
       " 14: 0,\n",
       " 15: 0,\n",
       " 16: 0,\n",
       " 17: 0,\n",
       " 18: 0,\n",
       " 19: 0,\n",
       " 20: 0,\n",
       " 21: 0,\n",
       " 22: 0,\n",
       " 23: 0,\n",
       " 24: 0,\n",
       " 25: 0,\n",
       " 26: 0,\n",
       " 27: 0,\n",
       " 28: 0}"
      ]
     },
     "execution_count": 19,
     "metadata": {},
     "output_type": "execute_result"
    }
   ],
   "source": [
    "FebDaily"
   ]
  },
  {
   "cell_type": "code",
   "execution_count": 20,
   "metadata": {},
   "outputs": [],
   "source": [
    "for i in range (len(FebDF)):\n",
    "    day=FebDF['tpep_pickup_datetime'][i].split(' ')[0].split('-')[2]\n",
    "    for j in FebDaily:\n",
    "        if day=='0'+str(j) or day==str(j):\n",
    "            FebDaily[j]+=1"
   ]
  },
  {
   "cell_type": "code",
   "execution_count": 21,
   "metadata": {},
   "outputs": [],
   "source": [
    "for i in FebDaily.keys():\n",
    "    FebDaily[i]=int(FebDaily[i]/28)"
   ]
  },
  {
   "cell_type": "code",
   "execution_count": 22,
   "metadata": {},
   "outputs": [
    {
     "data": {
      "image/png": "[encoded data removed]",
      "text/plain": [
       "<Figure size 432x288 with 1 Axes>"
      ]
     },
     "metadata": {},
     "output_type": "display_data"
    }
   ],
   "source": [
    "\n",
    "plt.bar(list(FebDaily.keys()),list(FebDaily.values()),color='g')\n",
    "plt.show()"
   ]
  },
  {
   "cell_type": "code",
   "execution_count": 23,
   "metadata": {},
   "outputs": [],
   "source": [
    "del FebDF"
   ]
  },
  {
   "cell_type": "code",
   "execution_count": 24,
   "metadata": {},
   "outputs": [],
   "source": [
    "MarDF=data_aggregator(MarData,[1],100)"
   ]
  },
  {
   "cell_type": "code",
   "execution_count": 25,
   "metadata": {},
   "outputs": [],
   "source": [
    "MarDailyList=[0 for x in range(31)]\n",
    "MarDaily=dict.fromkeys([i for i in range (1,32)], 0)"
   ]
  },
  {
   "cell_type": "code",
   "execution_count": 26,
   "metadata": {},
   "outputs": [],
   "source": [
    "for i in range (len(MarDF)):\n",
    "    day=MarDF['tpep_pickup_datetime'][i].split(' ')[0].split('-')[2]\n",
    "    for j in MarDaily:\n",
    "        if day=='0'+str(j) or day==str(j):\n",
    "            MarDaily[j]+=1\n"
   ]
  },
  {
   "cell_type": "code",
   "execution_count": 28,
   "metadata": {},
   "outputs": [],
   "source": [
    "for i in MarDaily.keys():\n",
    "    MarDaily[i]=int(MarDaily[i]/31)"
   ]
  },
  {
   "cell_type": "code",
   "execution_count": 29,
   "metadata": {},
   "outputs": [
    {
     "data": {
      "image/png": "[encoded data removed]",
      "text/plain": [
       "<Figure size 432x288 with 1 Axes>"
      ]
     },
     "metadata": {},
     "output_type": "display_data"
    }
   ],
   "source": [
    "\n",
    "plt.bar(list(MarDaily.keys()),list(MarDaily.values()),color='g')\n",
    "plt.show()"
   ]
  },
  {
   "cell_type": "code",
   "execution_count": 30,
   "metadata": {},
   "outputs": [],
   "source": [
    "del MarDF"
   ]
  },
  {
   "cell_type": "code",
   "execution_count": 31,
   "metadata": {},
   "outputs": [],
   "source": [
    "AprDF=data_aggregator(AprData,[1],100)"
   ]
  },
  {
   "cell_type": "code",
   "execution_count": 32,
   "metadata": {},
   "outputs": [],
   "source": [
    "AprDailyList=[0 for x in range(30)]\n",
    "AprDaily=dict.fromkeys([i for i in range (1,31)], 0)"
   ]
  },
  {
   "cell_type": "code",
   "execution_count": 33,
   "metadata": {},
   "outputs": [],
   "source": [
    "for i in range (len(AprDF)):\n",
    "    day=AprDF['tpep_pickup_datetime'][i].split(' ')[0].split('-')[2]\n",
    "    for j in AprDaily:\n",
    "        if day=='0'+str(j) or day==str(j):\n",
    "            AprDaily[j]+=1"
   ]
  },
  {
   "cell_type": "code",
   "execution_count": 34,
   "metadata": {},
   "outputs": [],
   "source": [
    "for i in AprDaily.keys():\n",
    "    AprDaily[i]=int(AprDaily[i]/30)"
   ]
  },
  {
   "cell_type": "code",
   "execution_count": 35,
   "metadata": {},
   "outputs": [
    {
     "data": {
      "image/png": "[encoded data removed]",
      "text/plain": [
       "<Figure size 432x288 with 1 Axes>"
      ]
     },
     "metadata": {},
     "output_type": "display_data"
    }
   ],
   "source": [
    "plt.bar(list(AprDaily.keys()),list(AprDaily.values()),color='g')\n",
    "plt.show()"
   ]
  },
  {
   "cell_type": "code",
   "execution_count": 36,
   "metadata": {},
   "outputs": [],
   "source": [
    "MayDF=data_aggregator(MarData,[1],100)"
   ]
  },
  {
   "cell_type": "code",
   "execution_count": 37,
   "metadata": {},
   "outputs": [],
   "source": [
    "MayDailyList=[0 for x in range(31)]\n",
    "MayDaily=dict.fromkeys([i for i in range (1,32)], 0)"
   ]
  },
  {
   "cell_type": "code",
   "execution_count": 38,
   "metadata": {},
   "outputs": [],
   "source": [
    "for i in range (len(MayDF)):\n",
    "    day=MayDF['tpep_pickup_datetime'][i].split(' ')[0].split('-')[2]\n",
    "    for j in MayDaily:\n",
    "        if day=='0'+str(j) or day==str(j):\n",
    "            MayDaily[j]+=1\n"
   ]
  },
  {
   "cell_type": "code",
   "execution_count": 39,
   "metadata": {},
   "outputs": [],
   "source": [
    "for i in MayDaily.keys():\n",
    "    MayDaily[i]=int(MayDaily[i]/31)"
   ]
  },
  {
   "cell_type": "code",
   "execution_count": 40,
   "metadata": {},
   "outputs": [
    {
     "data": {
      "image/png": "[encoded data removed]",
      "text/plain": [
       "<Figure size 432x288 with 1 Axes>"
      ]
     },
     "metadata": {},
     "output_type": "display_data"
    }
   ],
   "source": [
    "plt.bar(list(MayDaily.keys()),list(MayDaily.values()),color='g')\n",
    "plt.show()"
   ]
  },
  {
   "cell_type": "code",
   "execution_count": 41,
   "metadata": {},
   "outputs": [],
   "source": [
    "JunDF=data_aggregator(JunData,[1],100)"
   ]
  },
  {
   "cell_type": "code",
   "execution_count": 42,
   "metadata": {},
   "outputs": [],
   "source": [
    "JunDailyList=[0 for x in range(30)]\n",
    "JunDaily=dict.fromkeys([i for i in range (1,31)], 0)"
   ]
  },
  {
   "cell_type": "code",
   "execution_count": 43,
   "metadata": {},
   "outputs": [],
   "source": [
    "for i in range (len(JunDF)):\n",
    "    day=JunDF['tpep_pickup_datetime'][i].split(' ')[0].split('-')[2]\n",
    "    for j in JunDaily:\n",
    "        if day=='0'+str(j) or day==str(j):\n",
    "            JunDaily[j]+=1\n"
   ]
  },
  {
   "cell_type": "code",
   "execution_count": 44,
   "metadata": {},
   "outputs": [],
   "source": [
    "for i in JunDaily.keys():\n",
    "    JunDaily[i]=int(JunDaily[i]/31)"
   ]
  },
  {
   "cell_type": "code",
   "execution_count": 45,
   "metadata": {},
   "outputs": [
    {
     "data": {
      "image/png": "[encoded data removed]",
      "text/plain": [
       "<Figure size 432x288 with 1 Axes>"
      ]
     },
     "metadata": {},
     "output_type": "display_data"
    }
   ],
   "source": [
    "plt.bar(list(JunDaily.keys()),list(JunDaily.values()),color='g')\n",
    "plt.show()"
   ]
  },
  {
   "cell_type": "code",
   "execution_count": 46,
   "metadata": {},
   "outputs": [],
   "source": [
    "#RQ2 counting number of passengers for each time slot"
   ]
  },
  {
   "cell_type": "code",
   "execution_count": 47,
   "metadata": {},
   "outputs": [],
   "source": [
    "JanDF=data_aggregator(JanData,[1,3],100)"
   ]
  },
  {
   "cell_type": "code",
   "execution_count": 50,
   "metadata": {},
   "outputs": [],
   "source": [
    "timeslots={\"0\":0,\"1\":0,\"2\":0,\"3\":0,\"4\":0,\"5\":0,\"6\":0,\"7\":0}"
   ]
  },
  {
   "cell_type": "code",
   "execution_count": 52,
   "metadata": {},
   "outputs": [],
   "source": [
    "for i in range(len(JanDF)):\n",
    "    time=JanDF['tpep_pickup_datetime'][i].split(' ')[1]\n",
    "    if time >'00:00:00' and time<'03:00:00':\n",
    "        timeslots['0']+=JanDF['passenger_count'][i]\n",
    "    if time >'03:00:00' and time<'06:00:00':\n",
    "        timeslots['1']+=JanDF['passenger_count'][i]\n",
    "    if time >'06:00:00' and time<'09:00:00':\n",
    "        timeslots['2']+=JanDF['passenger_count'][i]\n",
    "    if time >'09:00:00' and time<'12:00:00':\n",
    "        timeslots['3']+=JanDF['passenger_count'][i]\n",
    "    if time >'12:00:00' and time<'15:00:00':\n",
    "        timeslots['4']+=JanDF['passenger_count'][i]\n",
    "    if time >'15:00:00' and time<'18:00:00':\n",
    "        timeslots['5']+=JanDF['passenger_count'][i]\n",
    "    if time >'18:00:00' and time<'21:00:00':\n",
    "        timeslots['6']+=JanDF['passenger_count'][i]\n",
    "    if time >'21:00:00' and time<'23:00:00':\n",
    "        timeslots['7']+=JanDF['passenger_count'][i]\n",
    "    "
   ]
  },
  {
   "cell_type": "code",
   "execution_count": 53,
   "metadata": {},
   "outputs": [
    {
     "data": {
      "image/png": "[encoded data removed]",
      "text/plain": [
       "<Figure size 432x288 with 1 Axes>"
      ]
     },
     "metadata": {},
     "output_type": "display_data"
    }
   ],
   "source": [
    "plt.bar(list(timeslots.keys()),list(timeslots.values()),color='g')\n",
    "plt.show()"
   ]
  },
  {
   "cell_type": "code",
   "execution_count": 54,
   "metadata": {},
   "outputs": [],
   "source": [
    "del JanDF"
   ]
  },
  {
   "cell_type": "code",
   "execution_count": 55,
   "metadata": {},
   "outputs": [],
   "source": [
    "FebDF=data_aggregator(FebData,[1,3],100)"
   ]
  },
  {
   "cell_type": "code",
   "execution_count": 56,
   "metadata": {},
   "outputs": [],
   "source": [
    "timeslotsF={\"0\":0,\"1\":0,\"2\":0,\"3\":0,\"4\":0,\"5\":0,\"6\":0,\"7\":0}"
   ]
  },
  {
   "cell_type": "code",
   "execution_count": 57,
   "metadata": {},
   "outputs": [],
   "source": [
    "for i in range(len(FebDF)):\n",
    "    time=FebDF['tpep_pickup_datetime'][i].split(' ')[1]\n",
    "    if time >'00:00:00' and time<'03:00:00':\n",
    "        timeslots['0']+=FebDF['passenger_count'][i]\n",
    "    if time >'03:00:00' and time<'06:00:00':\n",
    "        timeslots['1']+=FebDF['passenger_count'][i]\n",
    "    if time >'06:00:00' and time<'09:00:00':\n",
    "        timeslots['2']+=FebDF['passenger_count'][i]\n",
    "    if time >'09:00:00' and time<'12:00:00':\n",
    "        timeslots['3']+=FebDF['passenger_count'][i]\n",
    "    if time >'12:00:00' and time<'15:00:00':\n",
    "        timeslots['4']+=FebDF['passenger_count'][i]\n",
    "    if time >'15:00:00' and time<'18:00:00':\n",
    "        timeslots['5']+=FebDF['passenger_count'][i]\n",
    "    if time >'18:00:00' and time<'21:00:00':\n",
    "        timeslots['6']+=FebDF['passenger_count'][i]\n",
    "    if time >'21:00:00' and time<'23:00:00':\n",
    "        timeslots['7']+=FebDF['passenger_count'][i]"
   ]
  },
  {
   "cell_type": "code",
   "execution_count": 58,
   "metadata": {},
   "outputs": [
    {
     "data": {
      "image/png": "[encoded data removed]",
      "text/plain": [
       "<Figure size 432x288 with 1 Axes>"
      ]
     },
     "metadata": {},
     "output_type": "display_data"
    }
   ],
   "source": [
    "plt.bar(list(timeslots.keys()),list(timeslots.values()),color='g')\n",
    "plt.show()"
   ]
  },
  {
   "cell_type": "code",
   "execution_count": 59,
   "metadata": {},
   "outputs": [],
   "source": [
    "del FebDF"
   ]
  },
  {
   "cell_type": "code",
   "execution_count": 60,
   "metadata": {},
   "outputs": [],
   "source": [
    "MarDF=data_aggregator(MarData,[1,3],100)"
   ]
  },
  {
   "cell_type": "code",
   "execution_count": 61,
   "metadata": {},
   "outputs": [],
   "source": [
    "timeslotsM={\"0\":0,\"1\":0,\"2\":0,\"3\":0,\"4\":0,\"5\":0,\"6\":0,\"7\":0}"
   ]
  },
  {
   "cell_type": "code",
   "execution_count": 62,
   "metadata": {},
   "outputs": [],
   "source": [
    "for i in range(len(MarDF)):\n",
    "    time=MarDF['tpep_pickup_datetime'][i].split(' ')[1]\n",
    "    if time >'00:00:00' and time<'03:00:00':\n",
    "        timeslots['0']+=MarDF['passenger_count'][i]\n",
    "    if time >'03:00:00' and time<'06:00:00':\n",
    "        timeslots['1']+=MarDF['passenger_count'][i]\n",
    "    if time >'06:00:00' and time<'09:00:00':\n",
    "        timeslots['2']+=MarDF['passenger_count'][i]\n",
    "    if time >'09:00:00' and time<'12:00:00':\n",
    "        timeslots['3']+=MarDF['passenger_count'][i]\n",
    "    if time >'12:00:00' and time<'15:00:00':\n",
    "        timeslots['4']+=MarDF['passenger_count'][i]\n",
    "    if time >'15:00:00' and time<'18:00:00':\n",
    "        timeslots['5']+=MarDF['passenger_count'][i]\n",
    "    if time >'18:00:00' and time<'21:00:00':\n",
    "        timeslots['6']+=MarDF['passenger_count'][i]\n",
    "    if time >'21:00:00' and time<'23:00:00':\n",
    "        timeslots['7']+=MarDF['passenger_count'][i]"
   ]
  },
  {
   "cell_type": "code",
   "execution_count": 63,
   "metadata": {},
   "outputs": [
    {
     "data": {
      "image/png": "[encoded data removed]",
      "text/plain": [
       "<Figure size 432x288 with 1 Axes>"
      ]
     },
     "metadata": {},
     "output_type": "display_data"
    }
   ],
   "source": [
    "plt.bar(list(timeslots.keys()),list(timeslots.values()),color='g')\n",
    "plt.show()"
   ]
  },
  {
   "cell_type": "code",
   "execution_count": 64,
   "metadata": {},
   "outputs": [],
   "source": [
    "del MarDF"
   ]
  },
  {
   "cell_type": "code",
   "execution_count": 65,
   "metadata": {},
   "outputs": [],
   "source": [
    "AprDF=data_aggregator(AprData,[1,3],100)"
   ]
  },
  {
   "cell_type": "code",
   "execution_count": 66,
   "metadata": {},
   "outputs": [],
   "source": [
    "timeslotsA={\"0\":0,\"1\":0,\"2\":0,\"3\":0,\"4\":0,\"5\":0,\"6\":0,\"7\":0}"
   ]
  },
  {
   "cell_type": "code",
   "execution_count": 67,
   "metadata": {},
   "outputs": [],
   "source": [
    "for i in range(len(AprDF)):\n",
    "    time=AprDF['tpep_pickup_datetime'][i].split(' ')[1]\n",
    "    if time >'00:00:00' and time<'03:00:00':\n",
    "        timeslots['0']+=AprDF['passenger_count'][i]\n",
    "    if time >'03:00:00' and time<'06:00:00':\n",
    "        timeslots['1']+=AprDF['passenger_count'][i]\n",
    "    if time >'06:00:00' and time<'09:00:00':\n",
    "        timeslots['2']+=AprDF['passenger_count'][i]\n",
    "    if time >'09:00:00' and time<'12:00:00':\n",
    "        timeslots['3']+=AprDF['passenger_count'][i]\n",
    "    if time >'12:00:00' and time<'15:00:00':\n",
    "        timeslots['4']+=AprDF['passenger_count'][i]\n",
    "    if time >'15:00:00' and time<'18:00:00':\n",
    "        timeslots['5']+=AprDF['passenger_count'][i]\n",
    "    if time >'18:00:00' and time<'21:00:00':\n",
    "        timeslots['6']+=AprDF['passenger_count'][i]\n",
    "    if time >'21:00:00' and time<'23:00:00':\n",
    "        timeslots['7']+=AprDF['passenger_count'][i]"
   ]
  },
  {
   "cell_type": "code",
   "execution_count": 68,
   "metadata": {},
   "outputs": [
    {
     "data": {
      "image/png": "[encoded data removed]",
      "text/plain": [
       "<Figure size 432x288 with 1 Axes>"
      ]
     },
     "metadata": {},
     "output_type": "display_data"
    }
   ],
   "source": [
    "plt.bar(list(timeslots.keys()),list(timeslots.values()),color='g')\n",
    "plt.show()"
   ]
  },
  {
   "cell_type": "code",
   "execution_count": 69,
   "metadata": {},
   "outputs": [],
   "source": [
    "del AprDF"
   ]
  },
  {
   "cell_type": "code",
   "execution_count": 70,
   "metadata": {},
   "outputs": [],
   "source": [
    "MayDF=data_aggregator(MayData,[1,3],100)"
   ]
  },
  {
   "cell_type": "code",
   "execution_count": 71,
   "metadata": {},
   "outputs": [],
   "source": [
    "timeslotsMy={\"0\":0,\"1\":0,\"2\":0,\"3\":0,\"4\":0,\"5\":0,\"6\":0,\"7\":0}"
   ]
  },
  {
   "cell_type": "code",
   "execution_count": 72,
   "metadata": {},
   "outputs": [],
   "source": [
    "for i in range(len(MayDF)):\n",
    "    time=MayDF['tpep_pickup_datetime'][i].split(' ')[1]\n",
    "    if time >'00:00:00' and time<'03:00:00':\n",
    "        timeslots['0']+=MayDF['passenger_count'][i]\n",
    "    if time >'03:00:00' and time<'06:00:00':\n",
    "        timeslots['1']+=MayDF['passenger_count'][i]\n",
    "    if time >'06:00:00' and time<'09:00:00':\n",
    "        timeslots['2']+=MayDF['passenger_count'][i]\n",
    "    if time >'09:00:00' and time<'12:00:00':\n",
    "        timeslots['3']+=MayDF['passenger_count'][i]\n",
    "    if time >'12:00:00' and time<'15:00:00':\n",
    "        timeslots['4']+=MayDF['passenger_count'][i]\n",
    "    if time >'15:00:00' and time<'18:00:00':\n",
    "        timeslots['5']+=MayDF['passenger_count'][i]\n",
    "    if time >'18:00:00' and time<'21:00:00':\n",
    "        timeslots['6']+=MayDF['passenger_count'][i]\n",
    "    if time >'21:00:00' and time<'23:00:00':\n",
    "        timeslots['7']+=MayDF['passenger_count'][i]"
   ]
  },
  {
   "cell_type": "code",
   "execution_count": 73,
   "metadata": {},
   "outputs": [
    {
     "data": {
      "image/png": "[encoded data removed]",
      "text/plain": [
       "<Figure size 432x288 with 1 Axes>"
      ]
     },
     "metadata": {},
     "output_type": "display_data"
    }
   ],
   "source": [
    "plt.bar(list(timeslots.keys()),list(timeslots.values()),color='g')\n",
    "plt.show()"
   ]
  },
  {
   "cell_type": "code",
   "execution_count": 74,
   "metadata": {},
   "outputs": [],
   "source": [
    "del MayDF"
   ]
  },
  {
   "cell_type": "code",
   "execution_count": 75,
   "metadata": {},
   "outputs": [],
   "source": [
    "JunDF=data_aggregator(JunData,[1,3],100)"
   ]
  },
  {
   "cell_type": "code",
   "execution_count": 76,
   "metadata": {},
   "outputs": [],
   "source": [
    "timeslotsJe={\"0\":0,\"1\":0,\"2\":0,\"3\":0,\"4\":0,\"5\":0,\"6\":0,\"7\":0}"
   ]
  },
  {
   "cell_type": "code",
   "execution_count": 77,
   "metadata": {},
   "outputs": [],
   "source": [
    "for i in range(len(JunDF)):\n",
    "    time=JunDF['tpep_pickup_datetime'][i].split(' ')[1]\n",
    "    if time >'00:00:00' and time<'03:00:00':\n",
    "        timeslots['0']+=JunDF['passenger_count'][i]\n",
    "    if time >'03:00:00' and time<'06:00:00':\n",
    "        timeslots['1']+=JunDF['passenger_count'][i]\n",
    "    if time >'06:00:00' and time<'09:00:00':\n",
    "        timeslots['2']+=JunDF['passenger_count'][i]\n",
    "    if time >'09:00:00' and time<'12:00:00':\n",
    "        timeslots['3']+=JunDF['passenger_count'][i]\n",
    "    if time >'12:00:00' and time<'15:00:00':\n",
    "        timeslots['4']+=JunDF['passenger_count'][i]\n",
    "    if time >'15:00:00' and time<'18:00:00':\n",
    "        timeslots['5']+=JunDF['passenger_count'][i]\n",
    "    if time >'18:00:00' and time<'21:00:00':\n",
    "        timeslots['6']+=JunDF['passenger_count'][i]\n",
    "    if time >'21:00:00' and time<'23:00:00':\n",
    "        timeslots['7']+=JunDF['passenger_count'][i]"
   ]
  },
  {
   "cell_type": "code",
   "execution_count": 78,
   "metadata": {},
   "outputs": [
    {
     "data": {
      "image/png": "[encoded data removed]",
      "text/plain": [
       "<Figure size 432x288 with 1 Axes>"
      ]
     },
     "metadata": {},
     "output_type": "display_data"
    }
   ],
   "source": [
    "plt.bar(list(timeslots.keys()),list(timeslots.values()),color='g')\n",
    "plt.show()"
   ]
  },
  {
   "cell_type": "code",
   "execution_count": 79,
   "metadata": {},
   "outputs": [],
   "source": [
    "del JunDF"
   ]
  },
  {
   "cell_type": "code",
   "execution_count": null,
   "metadata": {},
   "outputs": [],
   "source": []
  },
  {
   "cell_type": "code",
   "execution_count": null,
   "metadata": {},
   "outputs": [],
   "source": []
  }
 ],
 "metadata": {
  "kernelspec": {
   "display_name": "Python 3",
   "language": "python",
   "name": "python3"
  },
  "language_info": {
   "codemirror_mode": {
    "name": "ipython",
    "version": 3
   },
   "file_extension": ".py",
   "mimetype": "text/x-python",
   "name": "python",
   "nbconvert_exporter": "python",
   "pygments_lexer": "ipython3",
   "version": "3.6.5"
  }
 },
 "nbformat": 4,
 "nbformat_minor": 2
}
